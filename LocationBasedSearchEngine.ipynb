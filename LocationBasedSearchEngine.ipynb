{
 "cells": [
  {
   "cell_type": "code",
   "execution_count": 1,
   "metadata": {},
   "outputs": [],
   "source": [
    "# Libraries\n",
    "from lib.text import *\n",
    "from lib.resource import *\n",
    "from sql_lite_process import sql_connection"
   ]
  },
  {
   "cell_type": "code",
   "execution_count": 2,
   "metadata": {},
   "outputs": [],
   "source": [
    "raw_text = \"One of the greatest cities in the world, New York is always a whirlwind of activity, with famous sites at every turn and never enough time to see them all. Some people come here to enjoy the Broadway shows; others come specifically to shop and dine; and many come simply to see the sites: the Statue of Liberty, Empire State Building, Brooklyn Bridge, Central Park, historic neighborhoods, and numerous world famous museums. Many of the best places to visit in New York are within walking distance of each other, or just a short ride away, making this city a delight for sightseeing.\""
   ]
  },
  {
   "cell_type": "code",
   "execution_count": 3,
   "metadata": {},
   "outputs": [],
   "source": [
    "textObj = Text.text_from_string(raw_text)"
   ]
  },
  {
   "cell_type": "code",
   "execution_count": 4,
   "metadata": {},
   "outputs": [
    {
     "data": {
      "text/plain": [
       "(40.7127, -74.0059)"
      ]
     },
     "execution_count": 4,
     "metadata": {},
     "output_type": "execute_result"
    }
   ],
   "source": [
    "textObj.get_main_location()"
   ]
  },
  {
   "cell_type": "code",
   "execution_count": 5,
   "metadata": {},
   "outputs": [
    {
     "name": "stdout",
     "output_type": "stream",
     "text": [
      "Latitude: 40.7127\n",
      "Longitude: -74.0059\n",
      "One of many ethnic enclaves in New York City, Koreatown stands out for the unique offerings of its shops and restaurants. K-beauty boutiques, Korean bookshops, and spots serving up bubble tea, Korean pastries, and more line this one block-stretch of over 100 small businesses.\n",
      "\n",
      "Latitude: 40.7127\n",
      "Longitude: -74.0059\n",
      "One of many ethnic enclaves in New York City, Koreatown stands out for the unique offerings of its shops and restaurants. K-beauty boutiques, Korean bookshops, and spots serving up bubble tea, Korean pastries, and more line this one block-stretch of over 100 small businesses.\n",
      "\n",
      "Latitude: 40.7104\n",
      "Longitude: -73.99095\n",
      "Today, the Brooklyn Bridge is as iconic as it is crowded with street vendors, police security, and selfie stick-wielding tourists. Plan your next walk for the less-congested Williamsburg Bridge, which offers similarly stellar views of both the Manhattan and Brooklyn skylines. Running between Williamsburg, Brooklyn and Lower Manhattan, the bridge promises walkers plenty of restaurants, bars, and parks at either end of their journey.\n",
      "\n",
      "Latitude: 40.7104\n",
      "Longitude: -73.99095\n",
      "Today, the Brooklyn Bridge is as iconic as it is crowded with street vendors, police security, and selfie stick-wielding tourists. Plan your next walk for the less-congested Williamsburg Bridge, which offers similarly stellar views of both the Manhattan and Brooklyn skylines. Running between Williamsburg, Brooklyn and Lower Manhattan, the bridge promises walkers plenty of restaurants, bars, and parks at either end of their journey.\n",
      "\n",
      "Latitude: 40.701243\n",
      "Longitude: -74.015986\n",
      "Never one to be considered a top New York City attraction, Staten Island is not the draw of the Staten Island Ferry. Traveling between Manhattan and the borough of Staten Island, the ferry provides picture-perfect views of New York Harbor, a glimpse of the famous Ellis Island, and a front-row look at Lady Liberty herself. The best part? Riders may enjoy all of this plus the 25-minute ride itself completely free of charge.\n",
      "\n",
      "Latitude: 40.701243\n",
      "Longitude: -74.015986\n",
      "Never one to be considered a top New York City attraction, Staten Island is not the draw of the Staten Island Ferry. Traveling between Manhattan and the borough of Staten Island, the ferry provides picture-perfect views of New York Harbor, a glimpse of the famous Ellis Island, and a front-row look at Lady Liberty herself. The best part? Riders may enjoy all of this plus the 25-minute ride itself completely free of charge.\n",
      "\n",
      "Latitude: 40.7283\n",
      "Longitude: -73.9597\n",
      "This payday, forego Fifth Avenue in favor of the more bohemian Artists and Fleas, a shopping destination showcasing diverse independent businesses. Emphasizing local talents, the bazaar hosts sellers of vintage clothing, artisan bodycare products and home goods, hand-crafted jewelry, and more. With outposts in Williamsburg, Chelsea, and Soho, shopping small is easier— and more stylish— than ever before thanks to Artists and Fleas.\n",
      "\n",
      "Latitude: 40.7283\n",
      "Longitude: -73.9597\n",
      "This payday, forego Fifth Avenue in favor of the more bohemian Artists and Fleas, a shopping destination showcasing diverse independent businesses. Emphasizing local talents, the bazaar hosts sellers of vintage clothing, artisan bodycare products and home goods, hand-crafted jewelry, and more. With outposts in Williamsburg, Chelsea, and Soho, shopping small is easier— and more stylish— than ever before thanks to Artists and Fleas.\n",
      "\n"
     ]
    }
   ],
   "source": [
    "con = sql_connection()\n",
    "textObj.get_nearby_texts(con)\n",
    "con.close()"
   ]
  },
  {
   "cell_type": "code",
   "execution_count": null,
   "metadata": {},
   "outputs": [],
   "source": []
  }
 ],
 "metadata": {
  "kernelspec": {
   "display_name": "Python 3",
   "language": "python",
   "name": "python3"
  },
  "language_info": {
   "codemirror_mode": {
    "name": "ipython",
    "version": 3
   },
   "file_extension": ".py",
   "mimetype": "text/x-python",
   "name": "python",
   "nbconvert_exporter": "python",
   "pygments_lexer": "ipython3",
   "version": "3.6.8"
  }
 },
 "nbformat": 4,
 "nbformat_minor": 2
}
